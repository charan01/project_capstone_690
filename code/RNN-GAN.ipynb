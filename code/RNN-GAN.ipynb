{
 "cells": [
  {
   "cell_type": "markdown",
   "id": "c24c8fed",
   "metadata": {},
   "source": [
    "## Imports"
   ]
  },
  {
   "cell_type": "code",
   "execution_count": 1,
   "id": "06290397",
   "metadata": {
    "id": "a1c59f8a"
   },
   "outputs": [],
   "source": [
    "import numpy as np\n",
    "import torch\n",
    "import torch.nn as nn\n",
    "from torch import optim\n",
    "import torch.nn.functional as F\n",
    "from torch.utils.data import DataLoader\n",
    "\n",
    "from sklearn.manifold import TSNE\n",
    "from sklearn.decomposition import PCA\n",
    "import matplotlib.pyplot as plt\n",
    "\n",
    "from utils import extract_time\n",
    "from utils import random_generator\n",
    "from sklearn.preprocessing import MinMaxScaler\n",
    "\n",
    "\n",
    "\n",
    "from model_train import TimeGAN\n",
    "from model_train import Time_GAN_module\n",
    "import pandas as pd\n"
   ]
  },
  {
   "cell_type": "code",
   "execution_count": 2,
   "id": "866ad0b4",
   "metadata": {},
   "outputs": [
    {
     "data": {
      "text/plain": [
       "True"
      ]
     },
     "execution_count": 2,
     "metadata": {},
     "output_type": "execute_result"
    }
   ],
   "source": [
    "torch.cuda.is_available()"
   ]
  },
  {
   "cell_type": "markdown",
   "id": "53c4b698",
   "metadata": {
    "id": "65ad1d5e"
   },
   "source": [
    "## Set Parameters"
   ]
  },
  {
   "cell_type": "code",
   "execution_count": 6,
   "id": "97191a28",
   "metadata": {
    "id": "6a2e3f85"
   },
   "outputs": [],
   "source": [
    "#output_size = 20\n",
    "gamma = 1\n",
    "no, seq_len, dim = 350, 200, 5\n",
    "\n",
    "parameters = dict()\n",
    "parameters['hidden_dim'] = 24\n",
    "parameters['num_layers'] = 3\n",
    "parameters['iterations'] = 100\n",
    "parameters['batch_size'] = 10\n",
    "parameters['epoch'] = 10 #Change the number of epochs as needed"
   ]
  },
  {
   "cell_type": "code",
   "execution_count": 7,
   "id": "dbdf8cdd",
   "metadata": {
    "colab": {
     "base_uri": "https://localhost:8080/"
    },
    "id": "2373fb48",
    "outputId": "00332056-d68c-4eb0-e28c-a2df411f706f"
   },
   "outputs": [
    {
     "data": {
      "text/plain": [
       "torch.Size([350, 200, 5])"
      ]
     },
     "execution_count": 7,
     "metadata": {},
     "output_type": "execute_result"
    }
   ],
   "source": [
    "data = pd.read_csv(\"main_fligh_necessary.csv\")\n",
    "requred_features = [\"altitude\", \"distance\", \"latitude\", \"longitude\", \"groundspeed\"]\n",
    "data = data[requred_features].to_numpy()\n",
    "scaler = MinMaxScaler()\n",
    "\n",
    "data = scaler.fit_transform(data)\n",
    "\n",
    "data = data.reshape([-1,200,len(requred_features)])\n",
    "\n",
    "\n",
    "data = torch.Tensor(data)\n",
    "data.shape"
   ]
  },
  {
   "cell_type": "markdown",
   "id": "7479ac40",
   "metadata": {},
   "source": [
    "### Training and Examination of generating process: for each epoch a single sample is generated from the current state of the generator and visualized alongside with the coressponding loss values"
   ]
  },
  {
   "cell_type": "code",
   "execution_count": 8,
   "id": "021e2801",
   "metadata": {
    "colab": {
     "base_uri": "https://localhost:8080/",
     "height": 1000
    },
    "id": "9rnug7qqmddM",
    "outputId": "aacf2bb0-7f70-496a-d98f-0316b540c67a",
    "scrolled": true
   },
   "outputs": [
    {
     "name": "stdout",
     "output_type": "stream",
     "text": [
      "Start Embedding Network Training\n",
      "Embedding Loss:tensor(2.2754, device='cuda:0', grad_fn=<MulBackward0>)\n",
      "step: 1/10\n",
      "step: 2/10\n",
      "step: 3/10\n",
      "step: 4/10\n",
      "step: 5/10\n",
      "step: 6/10\n",
      "step: 7/10\n",
      "step: 8/10\n",
      "step: 9/10\n",
      "Finish Embedding Network Training\n",
      "Start Training with Supervised Loss Only\n",
      "Supervisor Loss:tensor(0.0767, device='cuda:0', grad_fn=<MseLossBackward0>)\n",
      "step: 1/10\n",
      "step: 2/10\n",
      "step: 3/10\n",
      "step: 4/10\n",
      "step: 5/10\n",
      "step: 6/10\n",
      "step: 7/10\n",
      "step: 8/10\n",
      "step: 9/10\n",
      "Finish Training with Supervised Loss Only\n",
      "Start Joint Training\n",
      "step: 1/10\n",
      "step: 2/10\n",
      "step: 3/10\n",
      "step: 4/10\n",
      "step: 5/10\n",
      "step: 6/10\n",
      "step: 7/10\n",
      "step: 8/10\n",
      "step: 9/10\n",
      "step: 10/10\n",
      "Finish Joint Training\n"
     ]
    }
   ],
   "source": [
    "Generator, Embedder, Supervisor, Recovery, Discriminator = TimeGAN(data, parameters)"
   ]
  },
  {
   "cell_type": "markdown",
   "id": "b48f26c1",
   "metadata": {},
   "source": [
    "### A Data Set of the same size and dimensions of the original synthetic data Set is generated"
   ]
  },
  {
   "cell_type": "code",
   "execution_count": 9,
   "id": "ab3cdaa6",
   "metadata": {},
   "outputs": [],
   "source": [
    "num_samples = 350\n",
    "sample =  random_generator(num_samples, dim, [seq_len]*num_samples,seq_len)\n",
    "test_sample = Generator(sample)[0]\n",
    "test_sample = torch.reshape(test_sample, (num_samples, seq_len, parameters['hidden_dim']))\n",
    "test_recovery = Recovery(test_sample)\n",
    "test_recovery = torch.reshape(test_recovery[0], (num_samples, seq_len, dim))"
   ]
  },
  {
   "cell_type": "code",
   "execution_count": 10,
   "id": "e7e219c0-d16e-4f89-a6ee-bf832a42b0e1",
   "metadata": {},
   "outputs": [],
   "source": [
    "values = scaler.inverse_transform(test_recovery.cpu().detach().numpy().reshape([-1,len(requred_features)]))"
   ]
  },
  {
   "cell_type": "code",
   "execution_count": 11,
   "id": "1ce681d5",
   "metadata": {},
   "outputs": [
    {
     "data": {
      "text/plain": [
       "(70000, 5)"
      ]
     },
     "execution_count": 11,
     "metadata": {},
     "output_type": "execute_result"
    }
   ],
   "source": [
    "values.shape"
   ]
  },
  {
   "cell_type": "code",
   "execution_count": 12,
   "id": "ffafc027",
   "metadata": {},
   "outputs": [],
   "source": [
    "synthetic_data = pd.DataFrame(values)"
   ]
  },
  {
   "cell_type": "code",
   "execution_count": 13,
   "id": "60d3e68b",
   "metadata": {},
   "outputs": [],
   "source": [
    "synthetic_data.rename(columns={\n",
    "    0: 'altitude',\n",
    "    1: 'groundspeed',\n",
    "    2: 'latitude',\n",
    "    3: 'longitude',\n",
    "    4: 'distance'\n",
    "}, inplace=True)"
   ]
  },
  {
   "cell_type": "code",
   "execution_count": 14,
   "id": "c9a9dd6e",
   "metadata": {},
   "outputs": [],
   "source": [
    "synthetic_data['flight_ID'] = ['A_{:02d}'.format(i // 200 + 1) for i in range(len(synthetic_data))]"
   ]
  },
  {
   "cell_type": "code",
   "execution_count": 15,
   "id": "a3de371e",
   "metadata": {},
   "outputs": [
    {
     "data": {
      "text/html": [
       "<div>\n",
       "<style scoped>\n",
       "    .dataframe tbody tr th:only-of-type {\n",
       "        vertical-align: middle;\n",
       "    }\n",
       "\n",
       "    .dataframe tbody tr th {\n",
       "        vertical-align: top;\n",
       "    }\n",
       "\n",
       "    .dataframe thead th {\n",
       "        text-align: right;\n",
       "    }\n",
       "</style>\n",
       "<table border=\"1\" class=\"dataframe\">\n",
       "  <thead>\n",
       "    <tr style=\"text-align: right;\">\n",
       "      <th></th>\n",
       "      <th>altitude</th>\n",
       "      <th>groundspeed</th>\n",
       "      <th>latitude</th>\n",
       "      <th>longitude</th>\n",
       "      <th>distance</th>\n",
       "      <th>flight_ID</th>\n",
       "    </tr>\n",
       "  </thead>\n",
       "  <tbody>\n",
       "    <tr>\n",
       "      <th>0</th>\n",
       "      <td>18942.843750</td>\n",
       "      <td>33.877686</td>\n",
       "      <td>47.635162</td>\n",
       "      <td>8.692516</td>\n",
       "      <td>324.121918</td>\n",
       "      <td>A_01</td>\n",
       "    </tr>\n",
       "    <tr>\n",
       "      <th>1</th>\n",
       "      <td>17832.949219</td>\n",
       "      <td>33.897392</td>\n",
       "      <td>47.666931</td>\n",
       "      <td>8.694017</td>\n",
       "      <td>333.232880</td>\n",
       "      <td>A_01</td>\n",
       "    </tr>\n",
       "    <tr>\n",
       "      <th>2</th>\n",
       "      <td>17545.914062</td>\n",
       "      <td>33.827274</td>\n",
       "      <td>47.672535</td>\n",
       "      <td>8.694969</td>\n",
       "      <td>335.400848</td>\n",
       "      <td>A_01</td>\n",
       "    </tr>\n",
       "    <tr>\n",
       "      <th>3</th>\n",
       "      <td>17469.296875</td>\n",
       "      <td>33.731167</td>\n",
       "      <td>47.670116</td>\n",
       "      <td>8.698079</td>\n",
       "      <td>335.388763</td>\n",
       "      <td>A_01</td>\n",
       "    </tr>\n",
       "    <tr>\n",
       "      <th>4</th>\n",
       "      <td>17393.250000</td>\n",
       "      <td>33.582184</td>\n",
       "      <td>47.666271</td>\n",
       "      <td>8.701200</td>\n",
       "      <td>334.566772</td>\n",
       "      <td>A_01</td>\n",
       "    </tr>\n",
       "    <tr>\n",
       "      <th>...</th>\n",
       "      <td>...</td>\n",
       "      <td>...</td>\n",
       "      <td>...</td>\n",
       "      <td>...</td>\n",
       "      <td>...</td>\n",
       "      <td>...</td>\n",
       "    </tr>\n",
       "    <tr>\n",
       "      <th>69995</th>\n",
       "      <td>4090.293457</td>\n",
       "      <td>7.748353</td>\n",
       "      <td>47.249107</td>\n",
       "      <td>8.773554</td>\n",
       "      <td>167.448303</td>\n",
       "      <td>A_350</td>\n",
       "    </tr>\n",
       "    <tr>\n",
       "      <th>69996</th>\n",
       "      <td>4074.410400</td>\n",
       "      <td>7.713489</td>\n",
       "      <td>47.248398</td>\n",
       "      <td>8.773480</td>\n",
       "      <td>167.186768</td>\n",
       "      <td>A_350</td>\n",
       "    </tr>\n",
       "    <tr>\n",
       "      <th>69997</th>\n",
       "      <td>4058.984131</td>\n",
       "      <td>7.679347</td>\n",
       "      <td>47.247707</td>\n",
       "      <td>8.773414</td>\n",
       "      <td>166.932053</td>\n",
       "      <td>A_350</td>\n",
       "    </tr>\n",
       "    <tr>\n",
       "      <th>69998</th>\n",
       "      <td>4043.991943</td>\n",
       "      <td>7.645894</td>\n",
       "      <td>47.247036</td>\n",
       "      <td>8.773352</td>\n",
       "      <td>166.683868</td>\n",
       "      <td>A_350</td>\n",
       "    </tr>\n",
       "    <tr>\n",
       "      <th>69999</th>\n",
       "      <td>4029.427246</td>\n",
       "      <td>7.613128</td>\n",
       "      <td>47.246384</td>\n",
       "      <td>8.773293</td>\n",
       "      <td>166.442200</td>\n",
       "      <td>A_350</td>\n",
       "    </tr>\n",
       "  </tbody>\n",
       "</table>\n",
       "<p>70000 rows × 6 columns</p>\n",
       "</div>"
      ],
      "text/plain": [
       "           altitude  groundspeed   latitude  longitude    distance flight_ID\n",
       "0      18942.843750    33.877686  47.635162   8.692516  324.121918      A_01\n",
       "1      17832.949219    33.897392  47.666931   8.694017  333.232880      A_01\n",
       "2      17545.914062    33.827274  47.672535   8.694969  335.400848      A_01\n",
       "3      17469.296875    33.731167  47.670116   8.698079  335.388763      A_01\n",
       "4      17393.250000    33.582184  47.666271   8.701200  334.566772      A_01\n",
       "...             ...          ...        ...        ...         ...       ...\n",
       "69995   4090.293457     7.748353  47.249107   8.773554  167.448303     A_350\n",
       "69996   4074.410400     7.713489  47.248398   8.773480  167.186768     A_350\n",
       "69997   4058.984131     7.679347  47.247707   8.773414  166.932053     A_350\n",
       "69998   4043.991943     7.645894  47.247036   8.773352  166.683868     A_350\n",
       "69999   4029.427246     7.613128  47.246384   8.773293  166.442200     A_350\n",
       "\n",
       "[70000 rows x 6 columns]"
      ]
     },
     "execution_count": 15,
     "metadata": {},
     "output_type": "execute_result"
    }
   ],
   "source": [
    "synthetic_data"
   ]
  },
  {
   "cell_type": "code",
   "execution_count": null,
   "id": "1412b778",
   "metadata": {},
   "outputs": [],
   "source": []
  }
 ],
 "metadata": {
  "colab": {
   "collapsed_sections": [],
   "name": "trainings_loops.ipynb",
   "provenance": []
  },
  "kernelspec": {
   "display_name": "Python 3 (ipykernel)",
   "language": "python",
   "name": "python3"
  },
  "language_info": {
   "codemirror_mode": {
    "name": "ipython",
    "version": 3
   },
   "file_extension": ".py",
   "mimetype": "text/x-python",
   "name": "python",
   "nbconvert_exporter": "python",
   "pygments_lexer": "ipython3",
   "version": "3.9.13"
  },
  "varInspector": {
   "cols": {
    "lenName": 16,
    "lenType": 16,
    "lenVar": 40
   },
   "kernels_config": {
    "python": {
     "delete_cmd_postfix": "",
     "delete_cmd_prefix": "del ",
     "library": "var_list.py",
     "varRefreshCmd": "print(var_dic_list())"
    },
    "r": {
     "delete_cmd_postfix": ") ",
     "delete_cmd_prefix": "rm(",
     "library": "var_list.r",
     "varRefreshCmd": "cat(var_dic_list()) "
    }
   },
   "types_to_exclude": [
    "module",
    "function",
    "builtin_function_or_method",
    "instance",
    "_Feature"
   ],
   "window_display": false
  }
 },
 "nbformat": 4,
 "nbformat_minor": 5
}
